{
 "cells": [
  {
   "cell_type": "code",
   "execution_count": 27,
   "id": "006f3cc1-edb4-4b4e-afac-b20990c8ad23",
   "metadata": {},
   "outputs": [],
   "source": [
    "from sklearn.metrics import accuracy_score\n",
    "from sklearn.model_selection import train_test_split \n",
    "import numpy as np \n",
    "import pandas as pd\n"
   ]
  },
  {
   "cell_type": "code",
   "execution_count": 47,
   "id": "a94526ff-0116-4b69-beba-7390a7c907c1",
   "metadata": {},
   "outputs": [],
   "source": [
    "import numpy as np\n",
    "\n",
    "class NaiveBayes:\n",
    "    def __init__(self):\n",
    "        self.class_prob = {}\n",
    "        self.feature_prob = {}\n",
    "\n",
    "    def fit(self, x, y):\n",
    "        total_samples = len(y)\n",
    "        classes, counts = np.unique(y, return_counts=True)\n",
    "        for c, count in zip(classes, counts):\n",
    "            self.class_prob[c] = count / total_samples\n",
    "            self.feature_prob[c] = {f: {v: np.sum((x[f] == v) & (y == c)) / count\n",
    "                                        for v in x[f].unique()} for f in x.columns}\n",
    "\n",
    "    def predict(self, x):\n",
    "        predictions = []\n",
    "        for _, row in x.iterrows():\n",
    "            max_prob, pred_class = -1, None\n",
    "            for c in self.class_prob:\n",
    "                prob = self.class_prob[c]\n",
    "                for f in x.columns:\n",
    "                    prob *= self.feature_prob[c][f].get(row[f], 0)\n",
    "                if max_prob < prob:\n",
    "                    max_prob, pred_class = prob, c\n",
    "            predictions.append(pred_class)\n",
    "        return predictions"
   ]
  },
  {
   "cell_type": "code",
   "execution_count": 48,
   "id": "25aaf7eb-eca1-4d42-baa6-ff598467bfca",
   "metadata": {},
   "outputs": [],
   "source": [
    "df = pd.read_csv('socials.csv')\n",
    "x = df.iloc[: , 1:4]\n",
    "y = df.iloc[: , -1]\n",
    "\n",
    "xt ,xtest , yt ,ytest= train_test_split(x,y, test_size = 0.3 , random_state = 42)\n",
    "model =NaiveBayes()\n",
    "model.fit(xt , yt)"
   ]
  },
  {
   "cell_type": "code",
   "execution_count": 49,
   "id": "9b04158c-cc4f-4fc9-881f-e3af07da295f",
   "metadata": {},
   "outputs": [
    {
     "name": "stdout",
     "output_type": "stream",
     "text": [
      "accuracy score is  0.7583333333333333\n"
     ]
    }
   ],
   "source": [
    "y_pred = model.predict(xtest)\n",
    "print(\"accuracy score is \" ,accuracy_score(y_pred,ytest))"
   ]
  },
  {
   "cell_type": "code",
   "execution_count": 50,
   "id": "45801e76-f082-4fae-96dc-79e174535a5f",
   "metadata": {},
   "outputs": [
    {
     "name": "stdout",
     "output_type": "stream",
     "text": [
      "the predicted behaviour is  Purchased\n"
     ]
    }
   ],
   "source": [
    "a=pd.DataFrame()\n",
    "a[\"Gender\"]=[\"Female\",]\n",
    "a[\"Age\"]=[32,]\n",
    "a[\"EstimatedSalary\"]=[108000,]\n",
    "print(\"the predicted behaviour is \",\"Purchased\"  if model.predict(a)[0] ==1 else 'Not Purchased ')"
   ]
  },
  {
   "cell_type": "code",
   "execution_count": null,
   "id": "58351983-9cbf-4e86-a62f-4f68aa98acad",
   "metadata": {},
   "outputs": [],
   "source": []
  }
 ],
 "metadata": {
  "kernelspec": {
   "display_name": "Python 3 (ipykernel)",
   "language": "python",
   "name": "python3"
  },
  "language_info": {
   "codemirror_mode": {
    "name": "ipython",
    "version": 3
   },
   "file_extension": ".py",
   "mimetype": "text/x-python",
   "name": "python",
   "nbconvert_exporter": "python",
   "pygments_lexer": "ipython3",
   "version": "3.10.5"
  }
 },
 "nbformat": 4,
 "nbformat_minor": 5
}
