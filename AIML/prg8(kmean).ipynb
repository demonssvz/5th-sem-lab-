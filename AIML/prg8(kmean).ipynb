{
 "cells": [
  {
   "cell_type": "code",
   "execution_count": 16,
   "id": "755be2ae-9f19-47bc-a369-c484afa09f42",
   "metadata": {},
   "outputs": [],
   "source": [
    "from sklearn.metrics import classification_report ,accuracy_score\n",
    "import pandas as pd \n",
    "from sklearn.model_selection import train_test_split\n"
   ]
  },
  {
   "cell_type": "code",
   "execution_count": 3,
   "id": "2fca685b-0667-4d88-bc2f-34defaee0003",
   "metadata": {},
   "outputs": [],
   "source": [
    "df = pd.read_csv('iris.csv')"
   ]
  },
  {
   "cell_type": "code",
   "execution_count": 4,
   "id": "3f190e26-f27e-4ff4-9d18-023814cd2dca",
   "metadata": {},
   "outputs": [
    {
     "data": {
      "text/html": [
       "<div>\n",
       "<style scoped>\n",
       "    .dataframe tbody tr th:only-of-type {\n",
       "        vertical-align: middle;\n",
       "    }\n",
       "\n",
       "    .dataframe tbody tr th {\n",
       "        vertical-align: top;\n",
       "    }\n",
       "\n",
       "    .dataframe thead th {\n",
       "        text-align: right;\n",
       "    }\n",
       "</style>\n",
       "<table border=\"1\" class=\"dataframe\">\n",
       "  <thead>\n",
       "    <tr style=\"text-align: right;\">\n",
       "      <th></th>\n",
       "      <th>sepallength</th>\n",
       "      <th>sepalwidth</th>\n",
       "      <th>petallength</th>\n",
       "      <th>petalwidth</th>\n",
       "      <th>class</th>\n",
       "    </tr>\n",
       "  </thead>\n",
       "  <tbody>\n",
       "    <tr>\n",
       "      <th>0</th>\n",
       "      <td>5.1</td>\n",
       "      <td>3.5</td>\n",
       "      <td>1.4</td>\n",
       "      <td>0.2</td>\n",
       "      <td>Iris-setosa</td>\n",
       "    </tr>\n",
       "    <tr>\n",
       "      <th>1</th>\n",
       "      <td>4.9</td>\n",
       "      <td>3.0</td>\n",
       "      <td>1.4</td>\n",
       "      <td>0.2</td>\n",
       "      <td>Iris-setosa</td>\n",
       "    </tr>\n",
       "    <tr>\n",
       "      <th>2</th>\n",
       "      <td>4.7</td>\n",
       "      <td>3.2</td>\n",
       "      <td>1.3</td>\n",
       "      <td>0.2</td>\n",
       "      <td>Iris-setosa</td>\n",
       "    </tr>\n",
       "    <tr>\n",
       "      <th>3</th>\n",
       "      <td>4.6</td>\n",
       "      <td>3.1</td>\n",
       "      <td>1.5</td>\n",
       "      <td>0.2</td>\n",
       "      <td>Iris-setosa</td>\n",
       "    </tr>\n",
       "    <tr>\n",
       "      <th>4</th>\n",
       "      <td>5.0</td>\n",
       "      <td>3.6</td>\n",
       "      <td>1.4</td>\n",
       "      <td>0.2</td>\n",
       "      <td>Iris-setosa</td>\n",
       "    </tr>\n",
       "  </tbody>\n",
       "</table>\n",
       "</div>"
      ],
      "text/plain": [
       "   sepallength  sepalwidth  petallength  petalwidth        class\n",
       "0          5.1         3.5          1.4         0.2  Iris-setosa\n",
       "1          4.9         3.0          1.4         0.2  Iris-setosa\n",
       "2          4.7         3.2          1.3         0.2  Iris-setosa\n",
       "3          4.6         3.1          1.5         0.2  Iris-setosa\n",
       "4          5.0         3.6          1.4         0.2  Iris-setosa"
      ]
     },
     "execution_count": 4,
     "metadata": {},
     "output_type": "execute_result"
    }
   ],
   "source": [
    "df.head()"
   ]
  },
  {
   "cell_type": "code",
   "execution_count": 23,
   "id": "ba721bdf-9449-422e-ad13-14cc13f4b645",
   "metadata": {},
   "outputs": [],
   "source": [
    "x = df.iloc[ : , :4]\n",
    "y = df.iloc[: , -1]\n",
    "xt , xtest , yt, ytest = train_test_split(x,y ,test_size = 0.25 ,random_state =42)"
   ]
  },
  {
   "cell_type": "code",
   "execution_count": 24,
   "id": "ba4bcc85-2dad-4cdc-8ebf-8c7b5a72b990",
   "metadata": {},
   "outputs": [],
   "source": [
    "# main fun \n",
    "def euclid(x ,y) :\n",
    "    return np.sqrt(np.sum((x-y)**2))\n",
    "k=3\n",
    "def knn (xt , label ,testpoint) :\n",
    "    dist = []\n",
    "    for i in range(len(xt)) :\n",
    "        dis = euclid(testpoint.values , xt.iloc[i,:].values)\n",
    "        dist.append((dis , label.iloc[i]))\n",
    "    sort = sorted(dist , key=lambda x : x[0])\n",
    "    k_n = sort[: k]\n",
    "    class_c = {}\n",
    "    for n in k_n  :\n",
    "        label = n[1]\n",
    "        class_c[label] = class_c.get(label , 0) +1\n",
    "    predicted = max(class_c , key = class_c.get)\n",
    "    return predicted\n",
    "    "
   ]
  },
  {
   "cell_type": "code",
   "execution_count": 25,
   "id": "8e4c2753-b484-4fb3-806a-44bb3ddb1734",
   "metadata": {},
   "outputs": [
    {
     "data": {
      "text/plain": [
       "1.0"
      ]
     },
     "execution_count": 25,
     "metadata": {},
     "output_type": "execute_result"
    }
   ],
   "source": [
    "import numpy as np \n",
    "ypred = [ knn(xt,yt, xtest.iloc[i,:]) for  i in range(len(xtest))]\n",
    "accuracy_score(ypred , ytest)"
   ]
  },
  {
   "cell_type": "code",
   "execution_count": 26,
   "id": "435aeda6-dbfb-4ed7-91d5-f7013595c627",
   "metadata": {},
   "outputs": [
    {
     "data": {
      "text/plain": [
       "'Iris-setosa'"
      ]
     },
     "execution_count": 26,
     "metadata": {},
     "output_type": "execute_result"
    }
   ],
   "source": [
    "a=pd.DataFrame()\n",
    "a[\"sepallength\"]=[5.1,]\n",
    "a[\"sepalwidth\"]=[.5,]\n",
    "a[\"petallength\"]=[1.5,]\n",
    "a[\"petalwidth\"]=[.2,]\n",
    "\n",
    "\n",
    "knn(xt, yt, a)"
   ]
  },
  {
   "cell_type": "code",
   "execution_count": null,
   "id": "cbf4a9b8-8df4-4925-9f02-1a09c7215f1d",
   "metadata": {},
   "outputs": [],
   "source": []
  }
 ],
 "metadata": {
  "kernelspec": {
   "display_name": "Python 3 (ipykernel)",
   "language": "python",
   "name": "python3"
  },
  "language_info": {
   "codemirror_mode": {
    "name": "ipython",
    "version": 3
   },
   "file_extension": ".py",
   "mimetype": "text/x-python",
   "name": "python",
   "nbconvert_exporter": "python",
   "pygments_lexer": "ipython3",
   "version": "3.10.5"
  }
 },
 "nbformat": 4,
 "nbformat_minor": 5
}
