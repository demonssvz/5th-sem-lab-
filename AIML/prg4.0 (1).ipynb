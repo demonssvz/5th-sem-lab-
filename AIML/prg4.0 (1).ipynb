{
 "cells": [
  {
   "cell_type": "code",
   "execution_count": 3,
   "id": "cc8ec98d-a5ed-4e81-8a21-bc80c1a70f97",
   "metadata": {},
   "outputs": [
    {
     "name": "stdout",
     "output_type": "stream",
     "text": [
      "optimal value is  1.0200000000000007\n",
      "Max iterations reached.\n"
     ]
    },
    {
     "data": {
      "image/png": "[encoded data removed]",
      "text/plain": [
       "<Figure size 432x288 with 1 Axes>"
      ]
     },
     "metadata": {
      "needs_background": "light"
     },
     "output_type": "display_data"
    }
   ],
   "source": [
    "import math\n",
    "import matplotlib.pyplot as plt\n",
    "\n",
    "def fun(x):\n",
    "    return x**2 + 2*x\n",
    "\n",
    "def hill(delta, iter, tot, x0):\n",
    "    x = x0\n",
    "    i = 0\n",
    "    x_values = []\n",
    "    f_values = []\n",
    "\n",
    "    while True:\n",
    "        i = i + 1\n",
    "\n",
    "        x_up = x + delta\n",
    "        x_down = x - delta\n",
    "\n",
    "        f_up = fun(x_up)\n",
    "        f_down = fun(x_down)\n",
    "\n",
    "        if f_up > f_down:\n",
    "            x = x_up\n",
    "        else:\n",
    "            x = x_down\n",
    "        x_values.append(x)\n",
    "        f_values.append(fun(x))\n",
    "\n",
    "        if i > iter:\n",
    "            print(\"optimal value is \" ,x)\n",
    "            print(\"Max iterations reached.\")\n",
    "            break\n",
    "        if abs(x - x0) <tot:\n",
    "            break\n",
    "\n",
    "        x0 = x\n",
    "\n",
    "    return x_values, f_values\n",
    "\n",
    "iter = 101\n",
    "delta = 0.01\n",
    "tot = 1e-9\n",
    "x0 = 0\n",
    "\n",
    "x_values, f_values = hill(delta, iter, tot, x0)\n",
    "\n",
    "# Plotting\n",
    "plt.plot(x_values, f_values,marker = 'o')\n",
    "plt.xlabel('x')\n",
    "plt.ylabel('f(x)')\n",
    "plt.title('Hill Climbing Optimization for function of x ')\n",
    "\n",
    "plt.show()\n"
   ]
  },
  {
   "cell_type": "code",
   "execution_count": null,
   "id": "c9fad797-187e-41cc-9787-a5111d08bb0c",
   "metadata": {},
   "outputs": [],
   "source": []
  }
 ],
 "metadata": {
  "kernelspec": {
   "display_name": "Python 3 (ipykernel)",
   "language": "python",
   "name": "python3"
  },
  "language_info": {
   "codemirror_mode": {
    "name": "ipython",
    "version": 3
   },
   "file_extension": ".py",
   "mimetype": "text/x-python",
   "name": "python",
   "nbconvert_exporter": "python",
   "pygments_lexer": "ipython3",
   "version": "3.10.5"
  }
 },
 "nbformat": 4,
 "nbformat_minor": 5
}
