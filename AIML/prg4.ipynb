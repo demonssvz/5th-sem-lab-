{
 "cells": [
  {
   "cell_type": "code",
   "execution_count": null,
   "id": "006f3cc1-edb4-4b4e-afac-b20990c8ad23",
   "metadata": {},
   "outputs": [],
   "source": [
    "\n",
    "# kmean \n",
    "data = pd.read_csv('sc.csv')\n",
    "data.head()\n",
    "User ID\tGender\tAge\tEstimatedSalary\tPurchased\n",
    "0\t15624510\tMale\t19\t19000\t0\n",
    "1\t15810944\tMale\t35\t20000\t0\n",
    "2\t15668575\tFemale\t26\t43000\t0\n",
    "3\t15603246\tFemale\t27\t57000\t0\n",
    "4\t15804002\tMale\t19\t76000\t0\n",
    "def km(X,K, iter = 1000 ) :\n",
    "    cent = np.random.choice(range(len(X)) , K, replace = False )\n",
    "    centroids = X.iloc[cent]\n",
    "    for i in range(iter) :\n",
    "        dist = np.linalg.norm(X.values[:,np.newaxis] - centroids.values , axis =2)\n",
    "        label = np.argmin(dist,axis =1)\n",
    "    new_c = np.array([X.iloc[label == k].mean(axis=0) for k in range(K)])\n",
    "    centroids = pd.DataFrame(new_c , columns = X.columns)\n",
    "    print(centroids)\n",
    "    return centroids , label\n",
    "import matplotlib.pyplot as plt \n",
    "# data = data.drop(['Purchased', 'User ID', 'Gender'], axis=1)\n",
    "K = 3\n",
    "centroids,labels = km(data, K)\n",
    "df = data\n",
    "plt.scatter(df['Age'], df['EstimatedSalary'], c=labels, cmap='viridis', alpha=0.7)\n",
    "plt.scatter(centroids['Age'], centroids['EstimatedSalary'], c='red', marker='X', s=200, label='Centroids')\n",
    "plt.title('K-means Clustering on Iris Dataset')\n",
    "plt.xlabel('Age')\n",
    "plt.ylabel('EstimatedSalary')\n",
    "plt.legend()\n",
    "plt.show()\n",
    "         Age  EstimatedSalary\n",
    "0  36.628472     52836.805556\n",
    "1  35.925000     90200.000000\n",
    "2  42.722222    126000.000000\n",
    "\n",
    "data\n",
    "Age\tEstimatedSalary\n",
    "0\t19\t19000\n",
    "1\t35\t20000\n",
    "2\t26\t43000\n",
    "3\t27\t57000\n",
    "4\t19\t76000\n",
    "...\t...\t...\n",
    "395\t46\t41000\n",
    "396\t51\t23000\n",
    "397\t50\t20000\n",
    "398\t36\t33000\n",
    "399\t49\t36000\n",
    "400 rows × 2 columns\n",
    "\n",
    "\n",
    "Click to add a cell."
   ]
  }
 ],
 "metadata": {
  "kernelspec": {
   "display_name": "Python 3 (ipykernel)",
   "language": "python",
   "name": "python3"
  },
  "language_info": {
   "codemirror_mode": {
    "name": "ipython",
    "version": 3
   },
   "file_extension": ".py",
   "mimetype": "text/x-python",
   "name": "python",
   "nbconvert_exporter": "python",
   "pygments_lexer": "ipython3",
   "version": "3.10.5"
  }
 },
 "nbformat": 4,
 "nbformat_minor": 5
}
