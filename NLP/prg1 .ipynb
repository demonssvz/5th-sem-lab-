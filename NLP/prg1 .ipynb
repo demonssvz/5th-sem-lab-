{
 "cells": [
  {
   "cell_type": "code",
   "execution_count": 1,
   "id": "6d33674c",
   "metadata": {},
   "outputs": [
    {
     "name": "stdout",
     "output_type": "stream",
     "text": [
      "Enter your paragraph:  Atoms of radioactive elements can split. According to Albert Einstein, mass and energy are interchangeable under certain circumstances. When atoms split, the process is called nuclear fission. In this case, a small amount of mass is converted into energy. Thus the energy released cannot do much damage. However, several subatomic particles called neutrons are also emitted during this process. Each neutron will hit a radioactive element releasing more neutrons in the process. This causes a chain reaction and creates a large amount of energy. This energy is converted into heat which expands uncontrollably causing an explosion. Hence, atoms do not literally explode. They generate energy that can cause explosions.\n",
      "Sentence 1:  Atoms of radioactive elements can split. (TF-IDF Score: 1.3385)\n",
      "Sentence 2: According to Albert Einstein, mass and energy are interchangeable under certain circumstances. (TF-IDF Score: 1.5270)\n",
      "Sentence 3: When atoms split, the process is called nuclear fission. (TF-IDF Score: 1.4286)\n",
      "Sentence 4: In this case, a small amount of mass is converted into energy. (TF-IDF Score: 1.2524)\n",
      "Sentence 5: Thus the energy released cannot do much damage. (TF-IDF Score: 1.4529)\n",
      "Sentence 6: However, several subatomic particles called neutrons are also emitted during this process. (TF-IDF Score: 1.4932)\n",
      "Sentence 7: Each neutron will hit a radioactive element releasing more neutrons in the process. (TF-IDF Score: 1.4734)\n",
      "Sentence 8: This causes a chain reaction and creates a large amount of energy. (TF-IDF Score: 1.3537)\n",
      "Sentence 9: This energy is converted into heat which expands uncontrollably causing an explosion. (TF-IDF Score: 1.4267)\n",
      "Sentence 10: Hence, atoms do not literally explode. (TF-IDF Score: 1.5216)\n",
      "Sentence 11: They generate energy that can cause explosions. (TF-IDF Score: 1.5159)\n",
      "According to Albert Einstein, mass and energy are interchangeable under certain circumstances. When atoms split, the process is called nuclear fission. Thus the energy released cannot do much damage. However, several subatomic particles called neutrons are also emitted during this process. Each neutron will hit a radioactive element releasing more neutrons in the process. This energy is converted into heat which expands uncontrollably causing an explosion. Hence, atoms do not literally explode. They generate energy that can cause explosions.\n"
     ]
    }
   ],
   "source": [
    "import math\n",
    "from nltk.tokenize import sent_tokenize\n",
    "from collections import Counter\n",
    "\n",
    "\n",
    "def tokenize_sentences(text):\n",
    "    return sent_tokenize(text)\n",
    "\n",
    "def calculate_tf(term_frequency, total_words):\n",
    "    return term_frequency / total_words\n",
    "\n",
    "def calculate_idf(corpus, term):\n",
    "    document_frequency = sum(1 for doc in corpus if term in doc)\n",
    "    return math.log(len(corpus) / (1 + document_frequency))\n",
    "\n",
    "def tokenize_words(text):\n",
    "    return text.lower().split()\n",
    "\n",
    "def calculate_tf_idf(corpus, sentence, term_freq):\n",
    "    total_documents = len(corpus)\n",
    "    total_words_in_sentence = sum(term_freq.values())\n",
    "    \n",
    "    tf_idf_score = sum(calculate_tf(count, total_words_in_sentence) * calculate_idf(corpus, word) for word, count in term_freq.items())\n",
    "\n",
    "    return tf_idf_score\n",
    "\n",
    "input_text = input(\"Enter your paragraph: \")\n",
    "corpus = tokenize_sentences(input_text)\n",
    "threshold=1.4\n",
    "\n",
    "corpus_words = [tokenize_words(doc) for doc in corpus]\n",
    "corpus_term_freq = [Counter(words) for words in corpus_words]\n",
    "\n",
    "sentence_scores = [(i, calculate_tf_idf(corpus_words, doc_words, corpus_term_freq[i])) for i, doc_words in enumerate(corpus_words)]\n",
    "\n",
    "\n",
    "for i, (index, score) in enumerate(sentence_scores, 1):\n",
    "    sentence = corpus[index]\n",
    "    print(f\"Sentence {i}: {sentence} (TF-IDF Score: {score:.4f})\")\n",
    "\n",
    "filtered_sentences = [corpus[index] for index, score in sentence_scores if score >= threshold]\n",
    "\n",
    "\n",
    "result_paragraph = ' '.join(filtered_sentences)\n",
    "print(result_paragraph)\n",
    "\n"
   ]
  },
  {
   "cell_type": "code",
   "execution_count": null,
   "id": "ce98d261",
   "metadata": {},
   "outputs": [],
   "source": []
  }
 ],
 "metadata": {
  "kernelspec": {
   "display_name": "Python 3 (ipykernel)",
   "language": "python",
   "name": "python3"
  },
  "language_info": {
   "codemirror_mode": {
    "name": "ipython",
    "version": 3
   },
   "file_extension": ".py",
   "mimetype": "text/x-python",
   "name": "python",
   "nbconvert_exporter": "python",
   "pygments_lexer": "ipython3",
   "version": "3.11.5"
  }
 },
 "nbformat": 4,
 "nbformat_minor": 5
}
