{
 "cells": [
  {
   "cell_type": "code",
   "execution_count": 2,
   "id": "851c61a6",
   "metadata": {},
   "outputs": [],
   "source": [
    "import numpy as np\n",
    "from sklearn.model_selection import train_test_split\n",
    "from sklearn.linear_model import LogisticRegression\n",
    "from sklearn.metrics import accuracy_score\n",
    "import pandas as pd"
   ]
  },
  {
   "cell_type": "code",
   "execution_count": 3,
   "id": "c476620b",
   "metadata": {},
   "outputs": [],
   "source": [
    "def preprocess_text(text):\n",
    "    preprocessed_text = text.lower()\n",
    "    return preprocessed_text"
   ]
  },
  {
   "cell_type": "code",
   "execution_count": 4,
   "id": "d6149b29",
   "metadata": {},
   "outputs": [],
   "source": [
    "def generate_ngrams(text, n):\n",
    "    words = text.split()\n",
    "    ngrams = zip(*[words[i:] for i in range(n)])\n",
    "    return [\" \".join(ngram) for ngram in ngrams]"
   ]
  },
  {
   "cell_type": "code",
   "execution_count": 5,
   "id": "c8de8943",
   "metadata": {},
   "outputs": [],
   "source": [
    "def vectorize_text(text, n, unique_ngrams):\n",
    "    ngrams = generate_ngrams(text, n)\n",
    "    vectorized_text = np.zeros(len(unique_ngrams))    \n",
    "    for i, ngram in enumerate(unique_ngrams):\n",
    "        vectorized_text[i] = int(ngram in ngrams)    \n",
    "    return vectorized_text"
   ]
  },
  {
   "cell_type": "code",
   "execution_count": 6,
   "id": "5c27462f",
   "metadata": {},
   "outputs": [],
   "source": [
    "df=pd.read_csv(\"prg3.csv\")\n",
    "x=df.iloc[:,6].values\n",
    "y=df.iloc[:,5].values\n",
    "\n",
    "\n",
    "X_train, X_test, y_train, y_test = train_test_split(x, y, test_size=0.2, random_state=42)"
   ]
  },
  {
   "cell_type": "code",
   "execution_count": 7,
   "id": "c310dfe1",
   "metadata": {},
   "outputs": [],
   "source": [
    "import pandas as pd\n",
    "import numpy as np\n",
    "from sklearn.utils import resample\n",
    "\n",
    "\n",
    "df = pd.read_csv(\"prg3.csv\")\n",
    "\n",
    "x = df.iloc[:,6].values\n",
    "y = df.iloc[:,5].values\n",
    "\n",
    "data = pd.DataFrame({'x': x, 'y': y})\n",
    "\n",
    "balanced_data = pd.DataFrame()\n",
    "for value in np.unique(y):\n",
    "    subset = data[data['y'] == value]\n",
    "    \n",
    "    if value == 4 or value == 5:\n",
    "        resampled_subset = resample(subset, replace=False, n_samples=500, random_state=42)\n",
    "        balanced_data = pd.concat([balanced_data, resampled_subset])\n",
    "    else:\n",
    "        resampled_subset = resample(subset, replace=False, n_samples=217, random_state=42)\n",
    "        balanced_data = pd.concat([balanced_data, resampled_subset])\n",
    "\n",
    "x = balanced_data['x'].values\n",
    "y = balanced_data['y'].values\n",
    "X_train, X_test, y_train, y_test = train_test_split(x, y, test_size=0.2, random_state=42)"
   ]
  },
  {
   "cell_type": "code",
   "execution_count": 8,
   "id": "f98447e1",
   "metadata": {},
   "outputs": [],
   "source": [
    "all_ngrams = [generate_ngrams(preprocess_text(text), 1) for text in X_train]\n",
    "unique_ngrams = list(set([item for sublist in all_ngrams for item in sublist]))\n",
    "X_train_vectorized = np.array([vectorize_text(preprocess_text(text), 1, unique_ngrams) for text in X_train])"
   ]
  },
  {
   "cell_type": "code",
   "execution_count": 10,
   "id": "46613116",
   "metadata": {},
   "outputs": [
    {
     "data": {
      "text/html": [
       "<style>#sk-container-id-1 {color: black;}#sk-container-id-1 pre{padding: 0;}#sk-container-id-1 div.sk-toggleable {background-color: white;}#sk-container-id-1 label.sk-toggleable__label {cursor: pointer;display: block;width: 100%;margin-bottom: 0;padding: 0.3em;box-sizing: border-box;text-align: center;}#sk-container-id-1 label.sk-toggleable__label-arrow:before {content: \"▸\";float: left;margin-right: 0.25em;color: #696969;}#sk-container-id-1 label.sk-toggleable__label-arrow:hover:before {color: black;}#sk-container-id-1 div.sk-estimator:hover label.sk-toggleable__label-arrow:before {color: black;}#sk-container-id-1 div.sk-toggleable__content {max-height: 0;max-width: 0;overflow: hidden;text-align: left;background-color: #f0f8ff;}#sk-container-id-1 div.sk-toggleable__content pre {margin: 0.2em;color: black;border-radius: 0.25em;background-color: #f0f8ff;}#sk-container-id-1 input.sk-toggleable__control:checked~div.sk-toggleable__content {max-height: 200px;max-width: 100%;overflow: auto;}#sk-container-id-1 input.sk-toggleable__control:checked~label.sk-toggleable__label-arrow:before {content: \"▾\";}#sk-container-id-1 div.sk-estimator input.sk-toggleable__control:checked~label.sk-toggleable__label {background-color: #d4ebff;}#sk-container-id-1 div.sk-label input.sk-toggleable__control:checked~label.sk-toggleable__label {background-color: #d4ebff;}#sk-container-id-1 input.sk-hidden--visually {border: 0;clip: rect(1px 1px 1px 1px);clip: rect(1px, 1px, 1px, 1px);height: 1px;margin: -1px;overflow: hidden;padding: 0;position: absolute;width: 1px;}#sk-container-id-1 div.sk-estimator {font-family: monospace;background-color: #f0f8ff;border: 1px dotted black;border-radius: 0.25em;box-sizing: border-box;margin-bottom: 0.5em;}#sk-container-id-1 div.sk-estimator:hover {background-color: #d4ebff;}#sk-container-id-1 div.sk-parallel-item::after {content: \"\";width: 100%;border-bottom: 1px solid gray;flex-grow: 1;}#sk-container-id-1 div.sk-label:hover label.sk-toggleable__label {background-color: #d4ebff;}#sk-container-id-1 div.sk-serial::before {content: \"\";position: absolute;border-left: 1px solid gray;box-sizing: border-box;top: 0;bottom: 0;left: 50%;z-index: 0;}#sk-container-id-1 div.sk-serial {display: flex;flex-direction: column;align-items: center;background-color: white;padding-right: 0.2em;padding-left: 0.2em;position: relative;}#sk-container-id-1 div.sk-item {position: relative;z-index: 1;}#sk-container-id-1 div.sk-parallel {display: flex;align-items: stretch;justify-content: center;background-color: white;position: relative;}#sk-container-id-1 div.sk-item::before, #sk-container-id-1 div.sk-parallel-item::before {content: \"\";position: absolute;border-left: 1px solid gray;box-sizing: border-box;top: 0;bottom: 0;left: 50%;z-index: -1;}#sk-container-id-1 div.sk-parallel-item {display: flex;flex-direction: column;z-index: 1;position: relative;background-color: white;}#sk-container-id-1 div.sk-parallel-item:first-child::after {align-self: flex-end;width: 50%;}#sk-container-id-1 div.sk-parallel-item:last-child::after {align-self: flex-start;width: 50%;}#sk-container-id-1 div.sk-parallel-item:only-child::after {width: 0;}#sk-container-id-1 div.sk-dashed-wrapped {border: 1px dashed gray;margin: 0 0.4em 0.5em 0.4em;box-sizing: border-box;padding-bottom: 0.4em;background-color: white;}#sk-container-id-1 div.sk-label label {font-family: monospace;font-weight: bold;display: inline-block;line-height: 1.2em;}#sk-container-id-1 div.sk-label-container {text-align: center;}#sk-container-id-1 div.sk-container {/* jupyter's `normalize.less` sets `[hidden] { display: none; }` but bootstrap.min.css set `[hidden] { display: none !important; }` so we also need the `!important` here to be able to override the default hidden behavior on the sphinx rendered scikit-learn.org. See: https://github.com/scikit-learn/scikit-learn/issues/21755 */display: inline-block !important;position: relative;}#sk-container-id-1 div.sk-text-repr-fallback {display: none;}</style><div id=\"sk-container-id-1\" class=\"sk-top-container\"><div class=\"sk-text-repr-fallback\"><pre>MultinomialNB()</pre><b>In a Jupyter environment, please rerun this cell to show the HTML representation or trust the notebook. <br />On GitHub, the HTML representation is unable to render, please try loading this page with nbviewer.org.</b></div><div class=\"sk-container\" hidden><div class=\"sk-item\"><div class=\"sk-estimator sk-toggleable\"><input class=\"sk-toggleable__control sk-hidden--visually\" id=\"sk-estimator-id-1\" type=\"checkbox\" checked><label for=\"sk-estimator-id-1\" class=\"sk-toggleable__label sk-toggleable__label-arrow\">MultinomialNB</label><div class=\"sk-toggleable__content\"><pre>MultinomialNB()</pre></div></div></div></div></div>"
      ],
      "text/plain": [
       "MultinomialNB()"
      ]
     },
     "execution_count": 10,
     "metadata": {},
     "output_type": "execute_result"
    }
   ],
   "source": [
    "# Import the Naive Bayes class\n",
    "from sklearn.naive_bayes import MultinomialNB\n",
    "\n",
    "# Train the Naive Bayes model\n",
    "naive_bayes_model = MultinomialNB()\n",
    "naive_bayes_model.fit(X_train_vectorized, y_train)"
   ]
  },
  {
   "cell_type": "code",
   "execution_count": 11,
   "id": "802c0430",
   "metadata": {},
   "outputs": [],
   "source": [
    "X_test_vectorized = np.array([vectorize_text(preprocess_text(text), 1, unique_ngrams) for text in X_test])"
   ]
  },
  {
   "cell_type": "code",
   "execution_count": 12,
   "id": "2a497122",
   "metadata": {},
   "outputs": [
    {
     "name": "stdout",
     "output_type": "stream",
     "text": [
      "Accuracy using Naive Bayes: 0.3957703927492447\n"
     ]
    }
   ],
   "source": [
    "# Predict the sentiment for the test set using Naive Bayes\n",
    "y_pred_nb = naive_bayes_model.predict(X_test_vectorized)\n",
    "\n",
    "# Calculate the accuracy of the Naive Bayes model\n",
    "accuracy_nb = accuracy_score(y_test, y_pred_nb)\n",
    "print(f\"Accuracy using Naive Bayes: {accuracy_nb}\")"
   ]
  },
  {
   "cell_type": "code",
   "execution_count": 13,
   "id": "657bd21f",
   "metadata": {},
   "outputs": [
    {
     "data": {
      "text/plain": [
       "'pretty good'"
      ]
     },
     "execution_count": 13,
     "metadata": {},
     "output_type": "execute_result"
    }
   ],
   "source": [
    "X_test[10]"
   ]
  },
  {
   "cell_type": "code",
   "execution_count": 39,
   "id": "1b0c416c",
   "metadata": {},
   "outputs": [
    {
     "data": {
      "text/plain": [
       "array(['CRAP', \"BEWARE:!!! It's not a hard plastic Mic Clip it's Rubber\",\n",
       "       'box power adaptor', ..., 'Good for the price',\n",
       "       'This was a great deal.', 'Great price and a real space saver'],\n",
       "      dtype=object)"
      ]
     },
     "execution_count": 39,
     "metadata": {},
     "output_type": "execute_result"
    }
   ],
   "source": [
    "X_train"
   ]
  },
  {
   "cell_type": "code",
   "execution_count": 15,
   "id": "237b7857",
   "metadata": {},
   "outputs": [
    {
     "data": {
      "text/plain": [
       "array([4., 4., 5., 2., 5., 4., 3., 4., 5., 4., 4., 5., 4., 4., 5., 4., 4.,\n",
       "       1., 5., 3., 4., 4., 5., 5., 4., 3., 5., 4., 5., 1., 5., 4., 4., 5.,\n",
       "       2., 4., 5., 5., 5., 4., 5., 4., 5., 4., 5., 4., 4., 4., 4., 4., 4.,\n",
       "       5., 5., 2., 1., 1., 4., 5., 4., 5., 4., 5., 4., 5., 4., 3., 3., 4.,\n",
       "       4., 4., 4., 4., 5., 4., 2., 2., 5., 5., 4., 3., 4., 4., 5., 5., 4.,\n",
       "       1., 5., 4., 5., 5., 5., 5., 3., 5., 2., 4., 5., 3., 5., 4., 5., 5.,\n",
       "       5., 4., 4., 4., 4., 4., 4., 5., 5., 4., 4., 4., 4., 5., 5., 3., 5.,\n",
       "       5., 1., 4., 4., 4., 5., 4., 5., 5., 4., 5., 4., 4., 1., 2., 1., 4.,\n",
       "       4., 5., 4., 1., 3., 4., 4., 5., 1., 5., 2., 4., 4., 5., 2., 1., 4.,\n",
       "       1., 5., 5., 2., 4., 2., 4., 5., 4., 5., 5., 4., 5., 4., 4., 4., 5.,\n",
       "       4., 4., 5., 4., 5., 4., 5., 5., 4., 5., 4., 4., 4., 5., 3., 4., 1.,\n",
       "       4., 4., 4., 4., 5., 4., 5., 4., 4., 3., 5., 5., 5., 3., 4., 4., 5.,\n",
       "       5., 4., 4., 3., 3., 4., 4., 5., 4., 5., 5., 2., 5., 5., 5., 4., 3.,\n",
       "       4., 1., 4., 4., 5., 5., 4., 4., 4., 4., 2., 4., 5., 5., 4., 5., 5.,\n",
       "       4., 4., 4., 5., 4., 4., 5., 4., 5., 3., 1., 1., 3., 4., 4., 4., 5.,\n",
       "       4., 4., 3., 3., 4., 4., 4., 4., 4., 4., 4., 5., 5., 4., 5., 4., 4.,\n",
       "       4., 4., 4., 4., 4., 5., 4., 5., 1., 4., 1., 4., 4., 4., 3., 5., 5.,\n",
       "       4., 3., 4., 4., 4., 5., 1., 5., 5., 5., 5., 4., 5., 4., 4., 2., 4.,\n",
       "       1., 4., 4., 5., 4., 4., 5., 1., 4., 4., 2., 4., 4., 5., 5., 4., 4.,\n",
       "       4., 4., 2., 1., 4., 4., 5., 1.])"
      ]
     },
     "execution_count": 15,
     "metadata": {},
     "output_type": "execute_result"
    }
   ],
   "source": [
    "y_pred_nb"
   ]
  },
  {
   "cell_type": "code",
   "execution_count": 16,
   "id": "2df1776d",
   "metadata": {},
   "outputs": [
    {
     "data": {
      "text/plain": [
       "array(['Not Bad Picks...', \"Doesn't cut it for me.\",\n",
       "       'Excellent 808 Clone',\n",
       "       'So far so good, but may have found something much better.',\n",
       "       'terible cheap material product I saw',\n",
       "       'For the guys in the back row it is a must', 'Nothing special',\n",
       "       'for what it is....', \"D'Addario makes the best\",\n",
       "       'Use a smartphone', 'pretty good',\n",
       "       'Five stars for doing what it does at this price point',\n",
       "       \"Yo'd better to buy a big one.\", 'great for the price', 'Stands',\n",
       "       \"Does the job, doesn't cost much!\", 'Does its job',\n",
       "       \"Not worth the few dollars you'll spend on it.\",\n",
       "       'Great simple looper for rehearsing.', 'DR Pure Blues Pure Nickel',\n",
       "       'Mighty Bright Duet Music Stand Light', 'Good effect, one problem',\n",
       "       'No drip humidifier', \"I'm new to a capo\",\n",
       "       'Useful but hard to dial in', 'ok pick holder', 'Patch cords',\n",
       "       'Humidipak', 'Great all round pick', \"Doesn't work\", 'These Rock!',\n",
       "       'Hooray...it fits me !',\n",
       "       'Think I would go with a different brand..',\n",
       "       'Handy mixer and ultra affordable problem solver', 'its too light',\n",
       "       'Boring, Boring, Boring.....', 'a cable',\n",
       "       \"Can't be beat for the price!\",\n",
       "       'Flaweless shine and protection. Made my classical guitar sound better.',\n",
       "       'Yorozuya Yokoshima', 'Love these pick!!!', 'Easy to use',\n",
       "       'Avoid this one like your mother-in-law.',\n",
       "       'Not for side by sides.',\n",
       "       'Save your money! A cheaper alternative...', 'Sorry, but...',\n",
       "       'Great guitar, but BEWARE the smell!', 'It Mostly Works',\n",
       "       'Wow, what a difference!', 'Good value',\n",
       "       'It still worked fine when I sold it', 'Reliable and Great',\n",
       "       'Method of attachment is poorly designed.',\n",
       "       'Wish I knew then what I know now...', 'Smart design',\n",
       "       'Glaesel Violin Ultra Practice Mute', 'Holds picks',\n",
       "       'Plug slips right out of any jack',\n",
       "       'It does the job but can be noisy', 'AWESOME STRINGS!',\n",
       "       'Making waves', 'Handy Little Gadget...',\n",
       "       'Suitable for light duty', 'Nice pedal - great price',\n",
       "       \"Doesn't completely hold my guitar stand\",\n",
       "       'Might not be right for you',\n",
       "       'Beyond high quality, but overpriced. The timeless combination of Neutrik and Mogami is better.',\n",
       "       'Way too short for a dreadnought guitar DO NOT BUY THIS STRAP!',\n",
       "       'works ok', \"And I don't play Hawiian Guitar\",\n",
       "       'Good Quality Microphone Wind Screen', 'Good Product',\n",
       "       'Bright sounding strings',\n",
       "       'fix the adjustment boom screw and it will be  a great stand',\n",
       "       'Worth it.', 'Too small', 'Great value', 'Very good',\n",
       "       'Great slap back for a great price',\n",
       "       'Not ideal.  Lower fork too narrow and small, bad design.',\n",
       "       'Hard or Soft? They felt the same.', 'Buzzy buz buzz',\n",
       "       \"Worst tuner I've ever used\",\n",
       "       'Poor Quality Control, Unsatisfactory Sound',\n",
       "       'Almost What I Was Looking For',\n",
       "       'A lot of function in a small box',\n",
       "       'I use Snarks everywhere except for this one', 'just my size',\n",
       "       'Joyo JF-16 British Sound Effects Pedal',\n",
       "       'The Real Deal (A Pleasant Surprise)', 'Great Product',\n",
       "       'Good sticks', 'Requires lots of fidgiting', 'Work good..',\n",
       "       'Got what I paid for.  Worth the money, definitely.',\n",
       "       'Forget it unless you are flat broke.',\n",
       "       'One of the better distortion pedals', 'not bad, but...',\n",
       "       \"Hasn't made things any easier\", 'Nice price',\n",
       "       'MXR Carbon Copy Analog Delay - Great pedal!', 'The top fell off',\n",
       "       'These are a new stlye to me.', 'Does not fit Taylor Guitar',\n",
       "       'Very nice pickup but..', 'Good One', 'Works well',\n",
       "       'Good for some uses', 'Works well, but could be brighter',\n",
       "       'excellent extension', 'Perfect for outdoor practicing',\n",
       "       'Bizarre Variant of the older Planet Waves Tri-Action Capo',\n",
       "       'Not for me', 'Makes it shine and reduces \"SQUEAKS\"',\n",
       "       'No flashy but good.',\n",
       "       'MXR Phase 90 Effects Pedal - Great effect!',\n",
       "       'Really good quality', \"It's OK\", 'Acoustic Guitar strings.',\n",
       "       'BEST Strings EVER',\n",
       "       'An Essential Compressor That I Prefer Over Boss', 'Good',\n",
       "       'GraphTech PQ-9280-C0 TUSQ Fully Compensated Acoustic Guitar Saddle',\n",
       "       \"Its good for what it is, but they're not great yet...\",\n",
       "       'Best velcro out there!', 'Might have been a good one.',\n",
       "       'Graet Quality Boom Stands', 'LOVE IT!',\n",
       "       'Get your reading glasses on!', 'Very good sound, good directions',\n",
       "       'Brass Tacks', 'not my best choice', 'Wrong one.', 'Too techy',\n",
       "       'Very good. Hard to know when to change them.',\n",
       "       'Basic music stand, works great, 1/2 off cost at a retail music store.',\n",
       "       'Does the job', 'Great Capo', 'Good travel companion',\n",
       "       \"They're not my favorite.....or even close.\", 'just ok',\n",
       "       'Perfect fit for a standard Strat nut slot.',\n",
       "       'Good Wireless Mic, For The Price - Recommended',\n",
       "       'Build your own, seriously!', 'waste of money....',\n",
       "       'Just part of my \"One Spot\" arsenal',\n",
       "       'do not use any battery...if possible', 'tone issues',\n",
       "       'Works Fine & Much Better Than Nothing!', 'Great',\n",
       "       'Too much noise', 'Disappointed',\n",
       "       'Behringer HA400 4-Channel Stereo Headphone Amp',\n",
       "       'This is NOT universal fit', 'Great little unit!',\n",
       "       'Dead on Arrival',\n",
       "       \"Terrible color (mostly white), don't waste your money.\",\n",
       "       'You Get What You Pay For (Sometimes!)', 'Too Big.',\n",
       "       'Great sound, but fickle quality', 'Very nice',\n",
       "       'I thought I could take the smell',\n",
       "       'No Headroom for Electric Guitar', 'I love Gold.', 'Agent Orange',\n",
       "       'tweed guitar cable', 'Acoustic Gig Bag',\n",
       "       'Poorly Made, Flimsy.  Buy Another Product', 'its fine',\n",
       "       'I Like The Jim Dunlop .60mm  Pitch Black Guitar Picks Best',\n",
       "       'Works well, a couple caveats', 'Cheep, fell apart the 2nd use',\n",
       "       'Better than factory, at the right price.',\n",
       "       'Comparable to MXR Dyna Comp', \"Don't buy these\",\n",
       "       'The truth about this product',\n",
       "       'This is the comfy reclining chair of straps',\n",
       "       'Very, very disappointed', 'Works great!',\n",
       "       '1 of several picks that I use', \"It's okay. Really just okay.\",\n",
       "       'Good Stands for the Money', 'Nice',\n",
       "       'Works Great and Has the Microphone Feature!',\n",
       "       'There are better choices', \"Not as good as I'd hoped\",\n",
       "       'Defective', 'Good grip without any slippage', 'Great!!!!!!!!!!!!',\n",
       "       'NOT ALL HOHNER DIATONIC MODELS FIT THIS CASE', 'Good for backups',\n",
       "       'Glaesel Violin Mute', 'So Far, So Good',\n",
       "       'Ernie Ball 2223 Super Slinky Electric Strings - .009-.042',\n",
       "       'It looks better than it works (for me).',\n",
       "       'good strings affordable price.',\n",
       "       'Setup Tips. If You are New to a DAW and Interface Hopefully This Will Be of Some Help',\n",
       "       'Perfect conversation piece picks', 'GREAT PRODUCT',\n",
       "       'A stand which becomes an artpiece.',\n",
       "       \"It's ok, but there are better.\", 'Works well',\n",
       "       'I like it, but the black rubber already came up!', 'great',\n",
       "       \"Love 'em!\", 'Good, just not for me',\n",
       "       'Guess what? It tunes.... really well',\n",
       "       'Behringer ULTRAVOICE XM1800S Dynamic Cardioid Vocal Microphones,...',\n",
       "       'NOT 20 feet; about 6.5 feet instead; maybe that matters',\n",
       "       'Behringer Type Pedal', 'Cherub Good',\n",
       "       'Great product. Works well for most of my devices.',\n",
       "       'Great sound well made too limited', 'Sound good.', 'Guitar tuner',\n",
       "       \"Another loser company producing a broke @$$ product they didn't test\",\n",
       "       'Great tuners', 'These are actually very nice',\n",
       "       'Something like this really should last at least a year or ...',\n",
       "       'fine', 'Not really thought it was going to be this cheap.',\n",
       "       'Sounds like a muff but theres a good reason why its cheaper',\n",
       "       'Broke two days after use',\n",
       "       'Nice utility, wish it had a little more length on the split cable',\n",
       "       '39 inch guitar...', 'Instability and Heavy', 'Great',\n",
       "       'I will finally hear a great hisssss in my earphone!',\n",
       "       'Good for price', 'cumbersome', \"Wouldn't leave home without it\",\n",
       "       'Input jack bad...', 'Good stuff', 'Really Hard',\n",
       "       'It needed to adjust', 'great starter', 'Perfektion is cool',\n",
       "       'I doubt it really helps.',\n",
       "       'Good stand alone..nightmare for recording or software use',\n",
       "       'They work', 'Get what you pay for', 'Okay Guitar Strings',\n",
       "       'NS Mini', \"Voodoo Lab power supply didn't fit as advertised.\",\n",
       "       'Awesome Amp at and awesome price',\n",
       "       'LIGHTWEIGHT,ATTRACTIVE, INEXPENSIVE', 'EXCELLENT COMPRESSOR',\n",
       "       'Will Not Clamp Tightly Enough',\n",
       "       'Ships slow. Packaging Chinese with no paperwork. Does that matter?',\n",
       "       'Scary after a while', 'Cheaply made and not very durable!',\n",
       "       'good replacement for acoustic oem pins',\n",
       "       'Took The Edge Off My Fender Blues Deluxe Reissue', 'Great Idea',\n",
       "       'ChargerCity Microphone Stand Tablet Mount',\n",
       "       'Will not hold up mic.',\n",
       "       'great tuner - wish the clamp was a little wider',\n",
       "       'Exactly what you would expect from Behringer',\n",
       "       \"Serves it's purpose\", 'Sharp and Cutting', 'Nice Strap',\n",
       "       'Requires indepth MIDI knowledge - Akai does not care about customers',\n",
       "       'so so for  conversation recording...only non serious use.',\n",
       "       'It is what it is', 'Face Melting Fuzz', 'Cheapie', 'Fantastic',\n",
       "       'The Proof is on My Fingers', 'Good', \"I should've returned this\",\n",
       "       'Good for power in an emergency',\n",
       "       'Guess i just sorta bought it blind.', 'Works Great',\n",
       "       \"Awkward size and don't like the double function keys\", 'Good',\n",
       "       'Bang for your buck!', 'Nice Job', 'Five Stars',\n",
       "       \"Worst capo I've ever used\", 'Great',\n",
       "       'Stopped working after about 6 months.',\n",
       "       'Want rubber residue all over your guitar?',\n",
       "       'Good recorder with one major flaw', \"It's a steal. Buy IT!\",\n",
       "       'Does not work', 'Great product, Fast Service, Crazy Low Price',\n",
       "       'Not true bypass, colors tone/breaks easily.', 'This okay',\n",
       "       'No Brainer!!!!', 'Works like a strap!', 'OK',\n",
       "       'Does ONE thing well... Just not well enough for me...',\n",
       "       'Purchased today',\n",
       "       'Heavy duty, well constructed single tongue pedal.',\n",
       "       'Good Strings',\n",
       "       'Horrible Design - Friction backs out mounting screws',\n",
       "       'Great replacement knobs!', 'Best Acoustic Guitar Strings',\n",
       "       'Classic fuzz, compact size', 'Sustain', 'Almost Perfect!',\n",
       "       'Great strings!', 'It works. Nice size',\n",
       "       \"Eh... there's better out there\", 'Not as durable', 'AB100',\n",
       "       'Dull', 'works great', \"it's a hit and miis for behringer\",\n",
       "       'I like this but...', 'Not on my bass', 'Great stand for its size',\n",
       "       'Wonderful case.', 'sure, for trying out others...',\n",
       "       'O.K. But Not Great',\n",
       "       'Definitely Not For The Seasoned Piano Player',\n",
       "       'One stopped working',\n",
       "       'Why No Protective Covering For The Back Plate???',\n",
       "       'A decent adapter',\n",
       "       'Great flexibility and the connection is clean.',\n",
       "       'Best String Out There In Its Price Class', 'Cheap cheap',\n",
       "       'pointless', 'Yup', 'Not the best', 'Cost Too Much',\n",
       "       'Not a lot of protection', 'plugged it in and it works', 'Nope.',\n",
       "       'Get This Pedal!', \"Doesn't work with electronic drums\"],\n",
       "      dtype=object)"
      ]
     },
     "execution_count": 16,
     "metadata": {},
     "output_type": "execute_result"
    }
   ],
   "source": [
    "X_test"
   ]
  },
  {
   "cell_type": "code",
   "execution_count": 17,
   "id": "15cec1bf",
   "metadata": {},
   "outputs": [
    {
     "name": "stdout",
     "output_type": "stream",
     "text": [
      "217\n",
      "217\n",
      "217\n",
      "500\n",
      "500\n"
     ]
    }
   ],
   "source": [
    "import numpy as np\n",
    "count5 = np.count_nonzero(y == 5)\n",
    "count4 = np.count_nonzero(y == 4)\n",
    "count3 = np.count_nonzero(y == 3)\n",
    "count2 = np.count_nonzero(y == 2)\n",
    "count1 = np.count_nonzero(y == 1)\n",
    "print(count1)\n",
    "print(count2)\n",
    "print(count3)\n",
    "print(count4)\n",
    "print(count5)"
   ]
  },
  {
   "cell_type": "code",
   "execution_count": 18,
   "id": "6c8a987c",
   "metadata": {},
   "outputs": [
    {
     "data": {
      "text/plain": [
       "'Good'"
      ]
     },
     "execution_count": 18,
     "metadata": {},
     "output_type": "execute_result"
    }
   ],
   "source": [
    "sentiment_text = {5: \"Positve\",4: \"Good\",3: \"Neutral\",2: \"Bad\", 1: \"Negative\"}\n",
    "sentiment_text[y_pred[0]]"
   ]
  },
  {
   "cell_type": "code",
   "execution_count": 18,
   "id": "fbc92317",
   "metadata": {},
   "outputs": [],
   "source": []
  },
  {
   "cell_type": "code",
   "execution_count": 21,
   "id": "e84df9fe",
   "metadata": {},
   "outputs": [
    {
     "data": {
      "text/plain": [
       "array([4.])"
      ]
     },
     "execution_count": 21,
     "metadata": {},
     "output_type": "execute_result"
    }
   ],
   "source": [
    "text = \"5 stars, but I still prefer my Fender tuner\"\n",
    "v = np.array([vectorize_text(preprocess_text(text), 1, unique_ngrams)])y_pred_nb = naive_bayes_model.predict(v)\n",
    "y_pred_nb"
   ]
  },
  {
   "cell_type": "code",
   "execution_count": 23,
   "id": "b3eb7493",
   "metadata": {},
   "outputs": [],
   "source": [
    "text = \"piano is not bad !\"\n",
    "v = np.array([vectorize_text(preprocess_text(text), 1, unique_ngrams)])"
   ]
  },
  {
   "cell_type": "code",
   "execution_count": 24,
   "id": "efbd2896",
   "metadata": {},
   "outputs": [
    {
     "data": {
      "text/plain": [
       "array([3.])"
      ]
     },
     "execution_count": 24,
     "metadata": {},
     "output_type": "execute_result"
    }
   ],
   "source": [
    "y_pred_nb = naive_bayes_model.predict(v)\n",
    "y_pred_nb"
   ]
  },
  {
   "cell_type": "code",
   "execution_count": 40,
   "id": "92164176",
   "metadata": {},
   "outputs": [],
   "source": [
    "text = \"crap.\"\n",
    "v = np.array([vectorize_text(preprocess_text(text), 1, unique_ngrams)])"
   ]
  },
  {
   "cell_type": "code",
   "execution_count": 41,
   "id": "c00b0c11",
   "metadata": {},
   "outputs": [
    {
     "data": {
      "text/plain": [
       "array([1.])"
      ]
     },
     "execution_count": 41,
     "metadata": {},
     "output_type": "execute_result"
    }
   ],
   "source": [
    "y_pred_nb = naive_bayes_model.predict(v)\n",
    "y_pred_nb"
   ]
  },
  {
   "cell_type": "code",
   "execution_count": 35,
   "id": "47a02641",
   "metadata": {},
   "outputs": [],
   "source": [
    "text = \"Not bad. Not good.\"\n",
    "v = np.array([vectorize_text(preprocess_text(text), 1, unique_ngrams)])"
   ]
  },
  {
   "cell_type": "code",
   "execution_count": 36,
   "id": "90b7f983",
   "metadata": {},
   "outputs": [
    {
     "data": {
      "text/plain": [
       "array([3.])"
      ]
     },
     "execution_count": 36,
     "metadata": {},
     "output_type": "execute_result"
    }
   ],
   "source": [
    "y_pred_nb = naive_bayes_model.predict(v)\n",
    "y_pred_nb"
   ]
  },
  {
   "cell_type": "code",
   "execution_count": null,
   "id": "55f3e233",
   "metadata": {},
   "outputs": [],
   "source": []
  },
  {
   "cell_type": "code",
   "execution_count": null,
   "id": "f54f8308",
   "metadata": {},
   "outputs": [],
   "source": []
  }
 ],
 "metadata": {
  "kernelspec": {
   "display_name": "Python 3 (ipykernel)",
   "language": "python",
   "name": "python3"
  },
  "language_info": {
   "codemirror_mode": {
    "name": "ipython",
    "version": 3
   },
   "file_extension": ".py",
   "mimetype": "text/x-python",
   "name": "python",
   "nbconvert_exporter": "python",
   "pygments_lexer": "ipython3",
   "version": "3.11.5"
  }
 },
 "nbformat": 4,
 "nbformat_minor": 5
}
