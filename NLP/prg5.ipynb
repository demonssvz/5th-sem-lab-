{
 "cells": [
  {
   "cell_type": "code",
   "execution_count": 25,
   "id": "99691e86",
   "metadata": {},
   "outputs": [
    {
     "name": "stdout",
     "output_type": "stream",
     "text": [
      "Predicted Sentiment: Positive\n"
     ]
    }
   ],
   "source": [
    "import pandas as pd\n",
    "import numpy as np\n",
    "from sklearn.model_selection import train_test_split\n",
    "from sklearn.naive_bayes import GaussianNB\n",
    "\n",
    "df = pd.read_csv('Musical_instruments_reviews.csv')\n",
    "df['sentiment'] = df['overall'].map({5: 1, 4: 1, 3: 0, 2: -1, 1: -1})\n",
    "\n",
    "positive_df = df[df['sentiment'] == 1]\n",
    "neutral_df = df[df['sentiment'] == 0]\n",
    "negative_df = df[df['sentiment'] == -1]\n",
    "\n",
    "sample_size = min(len(positive_df), len(neutral_df), len(negative_df))\n",
    "\n",
    "positive_sample = positive_df.sample(sample_size, random_state=42)\n",
    "neutral_sample = neutral_df.sample(sample_size, random_state=42)\n",
    "negative_sample = negative_df.sample(sample_size, random_state=42)\n",
    "\n",
    "balanced_df = pd.concat([positive_sample, neutral_sample, negative_sample])\n",
    "\n",
    "train_df, test_df = train_test_split(balanced_df, test_size=0.2, random_state=42)\n",
    "\n",
    "def preprocess_text(text):\n",
    "    words = text.lower().split()\n",
    "    return words\n",
    "\n",
    "def create_vocabulary(corpus):\n",
    "    vocab = set()\n",
    "    for text in corpus:\n",
    "        words = preprocess_text(text)\n",
    "        vocab.update(words)\n",
    "    return vocab\n",
    "\n",
    "vocab = create_vocabulary(train_df['summary'])\n",
    "\n",
    "def text_to_bow(text, vocab):\n",
    "    words = preprocess_text(text)\n",
    "    vector = np.zeros(len(vocab))\n",
    "    for word in words:\n",
    "        if word in vocab:\n",
    "            vector[list(vocab).index(word)] += 1\n",
    "    return vector\n",
    "\n",
    "X_train = np.array([text_to_bow(text, vocab) for text in train_df['summary']])\n",
    "y_train = train_df['sentiment'].values\n",
    "\n",
    "nb_classifier = GaussianNB()\n",
    "nb_classifier.fit(X_train, y_train)\n",
    "\n",
    "def predict_sentiment(review, vocab):\n",
    "    review_vector = text_to_bow(review, vocab).reshape(1, -1)\n",
    "    sentiment = nb_classifier.predict(review_vector)[0]\n",
    "    return sentiment\n",
    "\n",
    "new_review = \"This product is excellent\"\n",
    "senti_map = {1:\"Positive\", 0:\"Neutral\", -1:\"Negative\"}\n",
    "predicted_sentiment = predict_sentiment(new_review, vocab)\n",
    "print(f\"Predicted Sentiment: {senti_map[predicted_sentiment]}\")"
   ]
  },
 
 "metadata": {
  "kernelspec": {
   "display_name": "Python 3 (ipykernel)",
   "language": "python",
   "name": "python3"
  },
  "language_info": {
   "codemirror_mode": {
    "name": "ipython",
    "version": 3
   },
   "file_extension": ".py",
   "mimetype": "text/x-python",
   "name": "python",
   "nbconvert_exporter": "python",
   "pygments_lexer": "ipython3",
   "version": "3.9.13"
  }
 },
 "nbformat": 4,
 "nbformat_minor": 5
}
